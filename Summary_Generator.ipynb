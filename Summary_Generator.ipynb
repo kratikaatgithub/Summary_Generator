{
  "nbformat": 4,
  "nbformat_minor": 0,
  "metadata": {
    "colab": {
      "provenance": [],
      "authorship_tag": "ABX9TyN35uRUrln8lAj/MpAMgYl0",
      "include_colab_link": true
    },
    "kernelspec": {
      "name": "python3",
      "display_name": "Python 3"
    },
    "language_info": {
      "name": "python"
    }
  },
  "cells": [
    {
      "cell_type": "markdown",
      "metadata": {
        "id": "view-in-github",
        "colab_type": "text"
      },
      "source": [
        "<a href=\"https://colab.research.google.com/github/kratikaatgithub/Summary_Generator/blob/main/Summary_Generator.ipynb\" target=\"_parent\"><img src=\"https://colab.research.google.com/assets/colab-badge.svg\" alt=\"Open In Colab\"/></a>"
      ]
    },
    {
      "cell_type": "code",
      "execution_count": null,
      "metadata": {
        "id": "7RKPnmn5u2U-"
      },
      "outputs": [],
      "source": [
        "!pip3 install torch==1.2.0+cu92 torchvision==0.4.0+cu92 -f https://download.pytorch.org/whl/torch_stable.html"
      ]
    },
    {
      "cell_type": "code",
      "source": [
        "!pip install transformers"
      ],
      "metadata": {
        "id": "uxyEf4RSvOTZ"
      },
      "execution_count": null,
      "outputs": []
    },
    {
      "cell_type": "code",
      "source": [
        "pip install sentencepiece"
      ],
      "metadata": {
        "id": "DF2PH78V1tik"
      },
      "execution_count": null,
      "outputs": []
    },
    {
      "cell_type": "code",
      "source": [
        "from transformers import PegasusForConditionalGeneration\n",
        "from transformers import PegasusTokenizer"
      ],
      "metadata": {
        "id": "F_cOjGpewKCC"
      },
      "execution_count": null,
      "outputs": []
    },
    {
      "cell_type": "code",
      "source": [
        "ta = PegasusTokenizer.from_pretrained(\"google/pegasus-xsum\")"
      ],
      "metadata": {
        "id": "JxvoxS7PwdRg"
      },
      "execution_count": null,
      "outputs": []
    },
    {
      "cell_type": "code",
      "source": [
        "model = PegasusForConditionalGeneration.from_pretrained(\"google/pegasus-xsum\")"
      ],
      "metadata": {
        "id": "Jm6Fu-nxy9fq"
      },
      "execution_count": null,
      "outputs": []
    },
    {
      "cell_type": "code",
      "source": [
        "pip install beautifulsoup4"
      ],
      "metadata": {
        "id": "0Py6BU4wz20R"
      },
      "execution_count": null,
      "outputs": []
    },
    {
      "cell_type": "code",
      "source": [
        "# import requests\n",
        "# from bs4 import BeautifulSoup\n",
        "# request = requests.get('https://medium.com/@data.science.enthusiast/feature-selection-techniques-forward-backward-wrapper-selection-9587f3c70cfa')\n",
        "# soup = BeautifulSoup(request.content, 'html.parser')\n",
        "# testtext = soup.get_text()\n",
        "# print(testtext)\n",
        "testtext = \"\"\"A research paper is a type of academic writing that provides an in-depth analysis, evaluation, or interpretation of a single topic, based on empirical evidence. Research papers are similar to analytical essays, except that research papers emphasize the use of statistical data and preexisting research, along with a strict code for citations. \n",
        "\n",
        "Research papers are a bedrock of modern science and the most effective way to share information across a wide network. However, most people are familiar with research papers from school; college courses often use them to test a student’s knowledge of a particular area or their research skills in general. \n",
        "\n",
        "Considering their gravity, research papers favor formal, even bland language that strips the writing of any bias. Researchers state their findings plainly and with corresponding evidence so that other researchers can consequently use the paper in their own research. \"\"\""
      ],
      "metadata": {
        "id": "HNMVAoLf2tuv"
      },
      "execution_count": null,
      "outputs": []
    },
    {
      "cell_type": "code",
      "source": [
        "tokens = ta(testtext, truncation=True, padding=\"longest\", return_tensors=\"pt\")"
      ],
      "metadata": {
        "id": "Q7nBb_TI32J4"
      },
      "execution_count": null,
      "outputs": []
    },
    {
      "cell_type": "code",
      "source": [
        "tokens"
      ],
      "metadata": {
        "colab": {
          "base_uri": "https://localhost:8080/"
        },
        "id": "PL0rVpu94Kv1",
        "outputId": "f3faded4-50ee-4ce8-8b5c-c7b750b3c4ab"
      },
      "execution_count": null,
      "outputs": [
        {
          "output_type": "execute_result",
          "data": {
            "text/plain": [
              "{'input_ids': tensor([[  202,   473,   800,   117,   114,   619,   113,  2232,   724,   120,\n",
              "           592,   142,   115,   121,  6157,  1382,   108,  4051,   108,   132,\n",
              "          7246,   113,   114,   612,  2162,   108,   451,   124, 18976,  1812,\n",
              "           107,  1810,  3392,   127,   984,   112, 10174,  5818,   108,  2854,\n",
              "           120,   473,  3392, 12731,   109,   207,   113,  9252,   335,   111,\n",
              "         66998,   473,   108,   466,   122,   114,  6324,   929,   118, 23037,\n",
              "           107,  1810,  3392,   127,   114, 41108,   113,   946,  1578,   111,\n",
              "           109,   205,   957,   230,   112,   537,   257,   482,   114,   827,\n",
              "           952,   107,   611,   108,   205,   200,   127,  2611,   122,   473,\n",
              "          3392,   135,   399,   206,  1416,  2017,   432,   207,   183,   112,\n",
              "           804,   114,   980,   123,   116,   825,   113,   114,   970,   345,\n",
              "           132,   153,   473,   766,   115,   956,   107, 16989,   153,  9941,\n",
              "           108,   473,  3392,  5089,  3722,   108,   254, 22675,  1261,   120,\n",
              "          8765,   109,   724,   113,   189,  9983,   107, 19027,   449,   153,\n",
              "          4469, 37487,   111,   122,  7072,  1812,   167,   120,   176,  2995,\n",
              "           137, 14680,   207,   109,   800,   115,   153,   282,   473,   107,\n",
              "             1]]), 'attention_mask': tensor([[1, 1, 1, 1, 1, 1, 1, 1, 1, 1, 1, 1, 1, 1, 1, 1, 1, 1, 1, 1, 1, 1, 1, 1,\n",
              "         1, 1, 1, 1, 1, 1, 1, 1, 1, 1, 1, 1, 1, 1, 1, 1, 1, 1, 1, 1, 1, 1, 1, 1,\n",
              "         1, 1, 1, 1, 1, 1, 1, 1, 1, 1, 1, 1, 1, 1, 1, 1, 1, 1, 1, 1, 1, 1, 1, 1,\n",
              "         1, 1, 1, 1, 1, 1, 1, 1, 1, 1, 1, 1, 1, 1, 1, 1, 1, 1, 1, 1, 1, 1, 1, 1,\n",
              "         1, 1, 1, 1, 1, 1, 1, 1, 1, 1, 1, 1, 1, 1, 1, 1, 1, 1, 1, 1, 1, 1, 1, 1,\n",
              "         1, 1, 1, 1, 1, 1, 1, 1, 1, 1, 1, 1, 1, 1, 1, 1, 1, 1, 1, 1, 1, 1, 1, 1,\n",
              "         1, 1, 1, 1, 1, 1, 1, 1, 1, 1, 1, 1, 1, 1, 1, 1, 1]])}"
            ]
          },
          "metadata": {},
          "execution_count": 10
        }
      ]
    },
    {
      "cell_type": "code",
      "source": [
        "summary = model.generate(**tokens)"
      ],
      "metadata": {
        "id": "VUGvstUC4O8t"
      },
      "execution_count": null,
      "outputs": []
    },
    {
      "cell_type": "code",
      "source": [
        "summary"
      ],
      "metadata": {
        "colab": {
          "base_uri": "https://localhost:8080/"
        },
        "id": "Qw6iciEq4yt6",
        "outputId": "8c9ab545-5300-4ecf-efb8-436973583454"
      },
      "execution_count": null,
      "outputs": [
        {
          "output_type": "execute_result",
          "data": {
            "text/plain": [
              "tensor([[    0,  1810,  3392,   127,   984,   112, 10174,  5818,   108,  2854,\n",
              "           120,   473,  3392, 12731,   109,   207,   113,  9252,   335,   111,\n",
              "         66998,   473,   108,   466,   122,   114,  6324,   929,   118, 23037,\n",
              "           107,     1]])"
            ]
          },
          "metadata": {},
          "execution_count": 12
        }
      ]
    },
    {
      "cell_type": "code",
      "source": [
        "ta.decode(summary[0])"
      ],
      "metadata": {
        "colab": {
          "base_uri": "https://localhost:8080/",
          "height": 52
        },
        "id": "by0wj_VZ41xJ",
        "outputId": "43b60ace-b5ab-466d-eb29-ece467400cd5"
      },
      "execution_count": null,
      "outputs": [
        {
          "output_type": "execute_result",
          "data": {
            "text/plain": [
              "'Research papers are similar to analytical essays, except that research papers emphasize the use of statistical data and preexisting research, along with a strict code for citations.'"
            ],
            "application/vnd.google.colaboratory.intrinsic+json": {
              "type": "string"
            }
          },
          "metadata": {},
          "execution_count": 13
        }
      ]
    },
    {
      "cell_type": "markdown",
      "source": [],
      "metadata": {
        "id": "OEA3njl-KglI"
      }
    }
  ]
}